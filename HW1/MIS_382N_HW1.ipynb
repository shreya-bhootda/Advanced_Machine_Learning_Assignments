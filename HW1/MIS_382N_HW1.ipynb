{
  "cells": [
    {
      "cell_type": "markdown",
      "metadata": {
        "id": "evHVxwk2JA-3"
      },
      "source": [
        "# <p style=\"text-align: center;\">MIS 382N: Advanced Machine Learning</p>\n",
        "# <p style=\"text-align: center;\">Homework 1</p>\n",
        "## <p style=\"text-align: center;\">Total points: 55</p>\n",
        "## <p style=\"text-align: center;\">Due: Wednesday, Sep 8 submitted via Canvas by 11:59 pm</p>\n",
        "\n",
        "Your homework should be written in a **Jupyter notebook**. Please make sure your code runs and the graphics (and anything else) are displayed in your notebook before submitting (%matplotlib inline). **This can be an individual assignment or group of 2. If you choose to do it as a group, please specify who you are working with (name and EID), then only one student should submit the homework.**\n",
        "\n",
        "**Note: Notebooks MUST have the images embedded in them. There will be no regrades if attached images do not render in the notebook. Please re download from canvas after submission and make sure all attached images render without errors. (Hint: Image module from IPython.display)**"
      ]
    },
    {
      "cell_type": "markdown",
      "metadata": {
        "id": "L50BK4ZW-xSI"
      },
      "source": [
        "# Team : Shreya Bhootda(sb58653), Kaushik Kumaran (kk34537)"
      ]
    },
    {
      "cell_type": "markdown",
      "metadata": {
        "id": "TWWU_gOSLEEv"
      },
      "source": [
        "# Question 1: MLOps (10 pts)\n",
        "Read this [article](https://towardsdatascience.com/what-is-mlops-everything-you-must-know-to-get-started-523f2d0b8bd8) \"What is MLOps — Everything You Must Know to Get Started\", which gives a quick walkthrough of the machine learning development lifecycle and explains how MLOps come into play, or watch this [video](https://www.youtube.com/watch?v=06-AZXmwHjo) which you may find interesting.\n",
        "\n",
        "1. (**4 pts**) Use your own words to describe what MLOps is, and what challenges MLOps address. Limit your answer to one paragraph.\n",
        "\n",
        "2. (**6 pts**) Describe what the main phases in MLOps are. Your answer should be 2-3 paragraphs.\n",
        "\n",
        "\n",
        "## Answer:\n",
        "\n",
        "1. The rise of use ML models in product development, led to the rise of a new engineering principle MLOps. It aims to unify the development and deployment of ML systems. This helps standardize and streamline deployment of models in the production environment. MLOps addresses the following challenges:\n",
        "\n",
        "*   Reflecting changing business goals: Continues model training and changing business objectives are difficult to keep up with changing data and maintaing model performance. \n",
        "*   Communication gaps: Absence of a language that both busines and development teams understand.\n",
        "*   Risk assesment: With continues training of models with new data, they tend to move away fro their original objective. Assesing the cost of such failures is very important.\n",
        "*   ML engineers is a new role that caters to a swet spot between Data Science and Devops.\n",
        "\n",
        "\n",
        "2. Major phases of MLOps:\n",
        "*   Converting a business problem to a ML problem.\n",
        "*   Finding a data set that is a good fit for the ML problem and creating ML models that cater to the same.\n",
        "*   Creating a pipeline with the right combination of cloud services and architecture. This pipeline produces clean and compatible data throught feature engineering and data cleaning.\n",
        "*   Training ML models iteratively and acessing them based on accuracy, precision, recall, qualitative analysis or explanability.\n",
        "*   Building and automating ML pipelines\n",
        "*   Deploying models in the production environment, this can be achieved either by a Static Deployment or a Dynaminc Deployment.\n",
        "*   Monitoring and maintaining models post deployment. A series of tasks like setting up a logging system, creating alerts in place to monitor model degradation, tuning the models, troubleshooting failures etc."
      ]
    },
    {
      "cell_type": "markdown",
      "metadata": {
        "id": "wusA9L1LmUMH"
      },
      "source": [
        "# Question 2: Applications of Machine Learning (5 pts)\n",
        "Read this [article](https://builtin.com/data-science/data-science-applications-examples) \"17 Data Science Applications & Examples\" and pick one of the data science systems used by various organizations according to this blog. \n",
        "\n",
        "For this system you have chosen, answer the following questions. Please limit your answer to one paragraph:\n",
        "\n",
        "1. What kind of machine learning problem is involved (e.g. classification, regression, clustering, outlier detection,...) in this system?\n",
        "2. Speculate on what kind of data may be needed and how the results can be useful to the organization.\n",
        "3. What do you think are the ethical implications of using machine learning in a domain like this?\n",
        "\n",
        "## Answer:\n",
        "CLUE: PREDICTING PERIODS\n",
        "\n",
        "1. The app tries to classify user into various groups like - about to mensturate, about to experience PMS, fertility etc. The algorithm could have a multiclass prediction for each possible output.\n",
        "The system could also cluster the data points together and possibly profile them later into groups like about to mensturate, fertility etc depending on the number of optimal clusters. \n",
        "2. Historical data which has the user characterstrics and statistics related to a users usual mensturation characterstics. Historical data could help in classification. They also need data that is rapidly fed into the model so that the algorithm is able to cater to each user based on their personal characterstics. In case we don't have historical data, we can still cluster and profile them accordingly.\n",
        "3. Keeping user data secure and anonymous is biggest implication of this domain. Data breach on sensitive information like fertility and pregnanancy is a big risk."
      ]
    },
    {
      "cell_type": "markdown",
      "metadata": {
        "id": "2w8za9lLmVO7"
      },
      "source": [
        "# Question 3: Simpson's Paradox (10 pts)\n",
        "A data scientist should be careful about drawing unwarranted conclusions about any data that is presented. One of the 'gotchas' that can happen even in apparently very simple tabular summaries, is called Simpson's paradox.\n",
        "\n",
        "Read this [article](https://www.covid-datascience.com/post/israeli-data-how-can-efficacy-vs-severe-disease-be-strong-when-60-of-hospitalized-are-vaccinated), which explains why the computed efficacy of the Pfizer vaccine is misleadingly low (67.5%) when you lump all people together, but once you stratify people by age (which is the right thing to do), you get much higher efficacy numbers.\n",
        "\n",
        "1.(**5 pts**) Explain in your own words what Simpson's paradox is, and how this 'paradox' can happen in real data.\n",
        "\n",
        "2.(**5 pts**) Find and mention another example of Simpson's paradox (but not any of the 3 examples given in the Wikipedia entry for 'Simpson's paradox'), state why the paradox appeared in your chosen example. Also give a reference (URL) to your source for the chosen example.\n",
        "\n",
        "## Answer:\n",
        "1. Simpson's paradox is when the general trend of the overall data is opposite to what is obeserved when data is divided into bins or categories. This paradox can occur on real data when there is a confounding variable present in the data set, for eg. in the vaccination article the confounding variable was age. As the vaccination rate was higher in the relatively older people, hospitilization rates seemed higher in the vaccinated population. However, that was not the case for the middle aged and young population.\n",
        "2. We found an example where US wage showed an increase of 1%, however at the same time the median wages for high school dropouts, high school graduates with no college education, people with some college education, and people with Bachelor’s or higher degrees showed a decrease. The reason for this paradox was that there was an increase in the propotion of the college graduates, who get higher paying jobs and the decrease in their wages has been much slower in comparison. Referenced article : https://blog.revolutionanalytics.com/2013/07/a-great-example-of-simpsons-paradox.html\n"
      ]
    },
    {
      "cell_type": "markdown",
      "metadata": {
        "id": "gth0D8jiMBSe"
      },
      "source": [
        "# Question 4: Ridge and Lasso Regression (30 pts)\n",
        "\n",
        "Download the dataset **Admission.csv** from Canvas and use the following codes to import the Admission dataset in Python. \n",
        "\n",
        "There are 7 features in the dataset:\n",
        "\n",
        "1. GRE score\n",
        "2. TOEFL score\n",
        "3. University Rating\n",
        "4. SOP(Statement of Purpose)\n",
        "5. LOR(Letter of Recommendation)\n",
        "6. CGPA\n",
        "7. Research\n",
        "\n",
        "And the target is **Chance of Admission**."
      ]
    },
    {
      "cell_type": "code",
      "execution_count": null,
      "metadata": {
        "id": "xsPaOOehGuU6"
      },
      "outputs": [],
      "source": [
        "# Codes below will work for both Google Colab and Jupyter Notebook.\n",
        "import numpy as np\n",
        "import pandas as pd\n",
        "import random\n",
        "from sklearn import linear_model\n",
        "from sklearn import model_selection\n",
        "from sklearn.metrics import mean_absolute_error, mean_squared_error\n",
        "from sklearn.linear_model import LogisticRegression\n",
        "from patsy import dmatrices\n",
        "\n",
        "## Load the dataset into pandas DataFrame\n",
        "df = pd.read_csv('Admission.csv', index_col=0)\n",
        "df = df.replace([np.inf, -np.inf], np.nan) # \n",
        "df = df.fillna(0) # Replace all the NaN values with 0"
      ]
    },
    {
      "cell_type": "code",
      "execution_count": null,
      "metadata": {
        "colab": {
          "base_uri": "https://localhost:8080/",
          "height": 235
        },
        "id": "CyZN-yFfGxlt",
        "outputId": "f159d701-6a18-45dc-e6d5-379cdbbbe706"
      },
      "outputs": [
        {
          "data": {
            "text/html": [
              "<div>\n",
              "<style scoped>\n",
              "    .dataframe tbody tr th:only-of-type {\n",
              "        vertical-align: middle;\n",
              "    }\n",
              "\n",
              "    .dataframe tbody tr th {\n",
              "        vertical-align: top;\n",
              "    }\n",
              "\n",
              "    .dataframe thead th {\n",
              "        text-align: right;\n",
              "    }\n",
              "</style>\n",
              "<table border=\"1\" class=\"dataframe\">\n",
              "  <thead>\n",
              "    <tr style=\"text-align: right;\">\n",
              "      <th></th>\n",
              "      <th>GRE_Score</th>\n",
              "      <th>TOEFL_Score</th>\n",
              "      <th>University_Rating</th>\n",
              "      <th>SOP</th>\n",
              "      <th>LOR</th>\n",
              "      <th>CGPA</th>\n",
              "      <th>Research</th>\n",
              "      <th>Chance_of_Admit</th>\n",
              "    </tr>\n",
              "    <tr>\n",
              "      <th>Serial No.</th>\n",
              "      <th></th>\n",
              "      <th></th>\n",
              "      <th></th>\n",
              "      <th></th>\n",
              "      <th></th>\n",
              "      <th></th>\n",
              "      <th></th>\n",
              "      <th></th>\n",
              "    </tr>\n",
              "  </thead>\n",
              "  <tbody>\n",
              "    <tr>\n",
              "      <th>1</th>\n",
              "      <td>337</td>\n",
              "      <td>118</td>\n",
              "      <td>4</td>\n",
              "      <td>4.5</td>\n",
              "      <td>4.5</td>\n",
              "      <td>9.65</td>\n",
              "      <td>1</td>\n",
              "      <td>0.92</td>\n",
              "    </tr>\n",
              "    <tr>\n",
              "      <th>2</th>\n",
              "      <td>324</td>\n",
              "      <td>107</td>\n",
              "      <td>4</td>\n",
              "      <td>4.0</td>\n",
              "      <td>4.5</td>\n",
              "      <td>8.87</td>\n",
              "      <td>1</td>\n",
              "      <td>0.76</td>\n",
              "    </tr>\n",
              "    <tr>\n",
              "      <th>3</th>\n",
              "      <td>316</td>\n",
              "      <td>104</td>\n",
              "      <td>3</td>\n",
              "      <td>3.0</td>\n",
              "      <td>3.5</td>\n",
              "      <td>8.00</td>\n",
              "      <td>1</td>\n",
              "      <td>0.72</td>\n",
              "    </tr>\n",
              "    <tr>\n",
              "      <th>4</th>\n",
              "      <td>322</td>\n",
              "      <td>110</td>\n",
              "      <td>3</td>\n",
              "      <td>3.5</td>\n",
              "      <td>2.5</td>\n",
              "      <td>8.67</td>\n",
              "      <td>1</td>\n",
              "      <td>0.80</td>\n",
              "    </tr>\n",
              "    <tr>\n",
              "      <th>5</th>\n",
              "      <td>314</td>\n",
              "      <td>103</td>\n",
              "      <td>2</td>\n",
              "      <td>2.0</td>\n",
              "      <td>3.0</td>\n",
              "      <td>8.21</td>\n",
              "      <td>0</td>\n",
              "      <td>0.65</td>\n",
              "    </tr>\n",
              "  </tbody>\n",
              "</table>\n",
              "</div>"
            ],
            "text/plain": [
              "            GRE_Score  TOEFL_Score  ...  Research  Chance_of_Admit\n",
              "Serial No.                          ...                           \n",
              "1                 337          118  ...         1             0.92\n",
              "2                 324          107  ...         1             0.76\n",
              "3                 316          104  ...         1             0.72\n",
              "4                 322          110  ...         1             0.80\n",
              "5                 314          103  ...         0             0.65\n",
              "\n",
              "[5 rows x 8 columns]"
            ]
          },
          "execution_count": 3,
          "metadata": {},
          "output_type": "execute_result"
        }
      ],
      "source": [
        "df.head() # Show you the first 5 rows in this file"
      ]
    },
    {
      "cell_type": "markdown",
      "metadata": {
        "id": "pKq1KERxJw9y"
      },
      "source": [
        "1)(**2 pts**) Split the data into a training set(75% of data) and a test set(25% of data), using the [train_test_split](https://scikit-learn.org/stable/modules/generated/sklearn.model_selection.train_test_split.html) function with random_state = 50. Then scale the data (not including target) so that each of the independent variables would have zero mean and unit variance. You can use the [sklearn.preprocessing.scale](https://scikit-learn.org/stable/modules/generated/sklearn.preprocessing.scale.html) function for this. Print the first 5 rows of the training set after scaling.\n",
        "\n",
        "2)(**5 pts**) Use [sklearn.linear_model.Lasso](https://scikit-learn.org/stable/modules/generated/sklearn.linear_model.Lasso.html) and [sklearn.linear_model.Ridge](https://scikit-learn.org/stable/modules/generated/sklearn.linear_model.Ridge.html) classes to do a **5-fold** cross validation using sklearn's KFold.\n",
        "\n",
        "3)(**5 pts**) Run ridge and lasso regression for all of the **α** specified above (on training data), and plot the coefficients learned for each of them - there should be one plot each for lasso and ridge, so a total of two plots; different features' weights of each model should be on the same plot with different colors (3pts). \n",
        "\n",
        "What do you qualitatively observe when the value of the regularization parameter changes (2pts)? \n",
        "\n",
        "4)(**3 pts**) Take the exponential of Y_train as the target, and fit the 2 regression models again. Report the best chosen **α** based on cross validation as well as the corresponding scoring metric. Compare the results of using the original target with the results of using the exponential of the target. What do you observe? \n",
        "\n",
        "5)(**5 pts**) Similarly, use [sklearn.linear_model.ElasticNet](https://scikit-learn.org/stable/modules/generated/sklearn.linear_model.ElasticNet.html) to do linear regression with different **α** values, and plot the coefficients learned for each of them (2pts). Observe the plot, then explain the pros and cons of ridge, lasso and Elastic Net models (3pts).\n",
        "\n",
        "\n",
        "6)(**5 pts**) Run the following three regression models with **MSE** loss on the training data: \n",
        "\n",
        "a. linear regression without regularization (1pts)\n",
        "\n",
        "b. linear regression with ridge regularization (2pts)\n",
        "\n",
        "c. linear regression with lasso regularization (2pts)\n",
        "\n",
        "For part (b) and (c), use only the best regularization parameters. Report the MSE and R<sup>2</sup> on the test data for each model.\n",
        "\n",
        "7)(**5 pts**) Train the 3 models and report the metrics with the original data without scaling (3pts). \n",
        "\n",
        "Why do we need to scale the data before regularization (2pts)? \n",
        "\n"
      ]
    },
    {
      "cell_type": "markdown",
      "metadata": {
        "id": "M0_vCXnue_Fb"
      },
      "source": [
        "1)  (**2 pts**) Split the data into a training set(75% of data) and a test set(25% of data), using the [train_test_split](https://scikit-learn.org/stable/modules/generated/sklearn.model_selection.train_test_split.html) function with random_state = 50. Then scale the data (not including target) so that each of the independent variables would have zero mean and unit variance. You can use the [sklearn.preprocessing.scale](https://scikit-learn.org/stable/modules/generated/sklearn.preprocessing.scale.html) function for this. Print the first 5 rows of the training set after scaling.\n",
        " \n",
        "\n",
        "Approach:\n",
        "- Scale the data using the scale function with mean as 0 and unit variance\n",
        "- Split the data into train-test with test ratio of 25% and random state as 50"
      ]
    },
    {
      "cell_type": "code",
      "execution_count": null,
      "metadata": {
        "id": "sNE1GK-SfoKe"
      },
      "outputs": [],
      "source": [
        "# Chance of admit is the dependent variable while others are independent\n",
        "y,X = dmatrices('Chance_of_Admit ~ GRE_Score + TOEFL_Score + University_Rating + SOP + Q(\"LOR \") + CGPA + Research',\n",
        "                data = df, return_type = 'dataframe')\n",
        "\n",
        "y = y['Chance_of_Admit'].values"
      ]
    },
    {
      "cell_type": "code",
      "execution_count": null,
      "metadata": {
        "colab": {
          "base_uri": "https://localhost:8080/",
          "height": 204
        },
        "id": "ZDh2QxBde8Gm",
        "outputId": "e509933f-a39e-4685-d24d-bcd8c1215829"
      },
      "outputs": [
        {
          "data": {
            "text/html": [
              "<div>\n",
              "<style scoped>\n",
              "    .dataframe tbody tr th:only-of-type {\n",
              "        vertical-align: middle;\n",
              "    }\n",
              "\n",
              "    .dataframe tbody tr th {\n",
              "        vertical-align: top;\n",
              "    }\n",
              "\n",
              "    .dataframe thead th {\n",
              "        text-align: right;\n",
              "    }\n",
              "</style>\n",
              "<table border=\"1\" class=\"dataframe\">\n",
              "  <thead>\n",
              "    <tr style=\"text-align: right;\">\n",
              "      <th></th>\n",
              "      <th>Intercept</th>\n",
              "      <th>GRE_Score</th>\n",
              "      <th>TOEFL_Score</th>\n",
              "      <th>University_Rating</th>\n",
              "      <th>SOP</th>\n",
              "      <th>Q(\"LOR \")</th>\n",
              "      <th>CGPA</th>\n",
              "      <th>Research</th>\n",
              "    </tr>\n",
              "  </thead>\n",
              "  <tbody>\n",
              "    <tr>\n",
              "      <th>0</th>\n",
              "      <td>0.0</td>\n",
              "      <td>1.527254</td>\n",
              "      <td>2.091771</td>\n",
              "      <td>1.615944</td>\n",
              "      <td>0.631508</td>\n",
              "      <td>1.728291</td>\n",
              "      <td>2.113703</td>\n",
              "      <td>0.904534</td>\n",
              "    </tr>\n",
              "    <tr>\n",
              "      <th>1</th>\n",
              "      <td>0.0</td>\n",
              "      <td>0.741809</td>\n",
              "      <td>0.463089</td>\n",
              "      <td>-0.931078</td>\n",
              "      <td>-0.352660</td>\n",
              "      <td>-1.041406</td>\n",
              "      <td>0.294888</td>\n",
              "      <td>0.904534</td>\n",
              "    </tr>\n",
              "    <tr>\n",
              "      <th>2</th>\n",
              "      <td>0.0</td>\n",
              "      <td>0.567266</td>\n",
              "      <td>0.137352</td>\n",
              "      <td>1.615944</td>\n",
              "      <td>0.631508</td>\n",
              "      <td>0.620412</td>\n",
              "      <td>0.262117</td>\n",
              "      <td>0.904534</td>\n",
              "    </tr>\n",
              "    <tr>\n",
              "      <th>3</th>\n",
              "      <td>0.0</td>\n",
              "      <td>-0.392722</td>\n",
              "      <td>-0.514121</td>\n",
              "      <td>-0.082071</td>\n",
              "      <td>0.139424</td>\n",
              "      <td>0.620412</td>\n",
              "      <td>-0.802955</td>\n",
              "      <td>-1.105542</td>\n",
              "    </tr>\n",
              "    <tr>\n",
              "      <th>4</th>\n",
              "      <td>0.0</td>\n",
              "      <td>0.479994</td>\n",
              "      <td>0.788825</td>\n",
              "      <td>0.766936</td>\n",
              "      <td>1.123593</td>\n",
              "      <td>1.174352</td>\n",
              "      <td>1.114174</td>\n",
              "      <td>0.904534</td>\n",
              "    </tr>\n",
              "  </tbody>\n",
              "</table>\n",
              "</div>"
            ],
            "text/plain": [
              "   Intercept  GRE_Score  TOEFL_Score  ...  Q(\"LOR \")      CGPA  Research\n",
              "0        0.0   1.527254     2.091771  ...   1.728291  2.113703  0.904534\n",
              "1        0.0   0.741809     0.463089  ...  -1.041406  0.294888  0.904534\n",
              "2        0.0   0.567266     0.137352  ...   0.620412  0.262117  0.904534\n",
              "3        0.0  -0.392722    -0.514121  ...   0.620412 -0.802955 -1.105542\n",
              "4        0.0   0.479994     0.788825  ...   1.174352  1.114174  0.904534\n",
              "\n",
              "[5 rows x 8 columns]"
            ]
          },
          "execution_count": 5,
          "metadata": {},
          "output_type": "execute_result"
        }
      ],
      "source": [
        "from sklearn.model_selection import train_test_split\n",
        "from sklearn import preprocessing\n",
        "from sklearn.preprocessing import StandardScaler\n",
        "\n",
        "# Train test split using random state as 50 and test set is 25%\n",
        "X_train, X_test, y_train, y_test = train_test_split(X, y, test_size=0.25, random_state=50)\n",
        "\n",
        "# Scaling the variables using scale function\n",
        "X_train_scaled = pd.DataFrame(preprocessing.scale(X_train, axis=0, with_mean=True, with_std=True, copy=True), columns = X_train.columns)\n",
        "X_test_scaled = pd.DataFrame(preprocessing.scale(X_test, axis=0, with_mean=True, with_std=True, copy=True), columns = X_test.columns)\n",
        "X_train_scaled.head(5)"
      ]
    },
    {
      "cell_type": "markdown",
      "metadata": {
        "id": "cIQUdVInwscm"
      },
      "source": [
        "2) (**5 pts**) Use [sklearn.linear_model.Lasso](https://scikit-learn.org/stable/modules/generated/sklearn.linear_model.Lasso.html) and [sklearn.linear_model.Ridge](https://scikit-learn.org/stable/modules/generated/sklearn.linear_model.Ridge.html) classes to do a **5-fold** cross validation using sklearn's KFold. For the sweep of the regularization parameter, we will look at a grid of values ranging from α=10^10 to α=10^−6. \n",
        "\n"
      ]
    },
    {
      "cell_type": "markdown",
      "metadata": {
        "id": "vde7p1Ovy-QV"
      },
      "source": [
        "# Lasso Regression\n",
        "Approach Used:\n",
        " Lasso Regression : \n",
        "- For each alpha split the train data into 5 folds, get the average MSE value for each alpha. \n",
        "- Choose the alpha with the minimum MSE value\n",
        "\n",
        "Same approach for Ridge Regression as well."
      ]
    },
    {
      "cell_type": "code",
      "execution_count": null,
      "metadata": {
        "id": "kmUbMeazkceT"
      },
      "outputs": [],
      "source": [
        "# Lasso Regression\n",
        "from sklearn.preprocessing import StandardScaler\n",
        "def cv_accuracy_score_lasso(X, y,alpha): #Creating a cross validation function\n",
        "    MSE_array = []\n",
        "    model = linear_model.Lasso(alpha=alpha) #Fitting the lasso model for the specific alpha values\n",
        "    \n",
        "    kfold = model_selection.KFold(n_splits=5, shuffle = True, random_state=None).split(X) # K fold function with 5 splits\n",
        "    \n",
        "    for train, holdout in kfold: \n",
        "        # Selecting the training and testing data using the indices\n",
        "        # provided by kfold\n",
        "        X_train_2 = X.iloc[train]\n",
        "        X_holdout = X.iloc[holdout]\n",
        "        y_train_2 = y[train]\n",
        "        y_holdout = y[holdout]\n",
        "        \n",
        "        # Fit the model\n",
        "        model.fit(X_train_2, y_train_2) # Fitting on the train data for each iteration\n",
        "        \n",
        "        # Compute test accuracy\n",
        "        MSE = mean_squared_error(model.predict(X_holdout), y_holdout, squared=True) #Computing the MSE for each fold\n",
        "    \n",
        "        MSE_array.append(MSE)\n",
        "    return sum(MSE_array)/len(MSE_array) #Returning the mean of MSE for each alpha value"
      ]
    },
    {
      "cell_type": "code",
      "execution_count": null,
      "metadata": {
        "colab": {
          "base_uri": "https://localhost:8080/",
          "height": 301
        },
        "id": "uS0bykyFWdyc",
        "outputId": "427d3ba1-5ef5-4856-9121-50199ead0db0"
      },
      "outputs": [
        {
          "data": {
            "text/plain": [
              "Text(0, 0.5, 'MSE')"
            ]
          },
          "execution_count": 7,
          "metadata": {},
          "output_type": "execute_result"
        },
        {
          "data": {
            "image/png": "[encoded data removed]",
            "text/plain": [
              "<Figure size 432x288 with 1 Axes>"
            ]
          },
          "metadata": {
            "needs_background": "light"
          },
          "output_type": "display_data"
        }
      ],
      "source": [
        "import matplotlib.pyplot as plt\n",
        "alpha =  10**np.linspace(10,-6,100) #Different value of alphas\n",
        "scores = [cv_accuracy_score_lasso(X_train_scaled, y_train, num_nbrs) for num_nbrs in alpha] #Calling the cross validation function for each value of alpha\n",
        "#Plotting the graph of alpha values against MSE\n",
        "ax = plt.gca()\n",
        "ax.plot(alpha, scores)\n",
        "ax.set_xscale('log')\n",
        "ax.set_xlim(ax.get_xlim()[::]) \n",
        "plt.plot(alpha, scores)\n",
        "plt.xlabel('Alpha value')\n",
        "plt.ylabel('MSE')"
      ]
    },
    {
      "cell_type": "code",
      "execution_count": null,
      "metadata": {
        "colab": {
          "base_uri": "https://localhost:8080/"
        },
        "id": "S_xxGEw0bvA5",
        "outputId": "a18d55a3-7334-4131-8563-c00f20db3164"
      },
      "outputs": [
        {
          "name": "stdout",
          "output_type": "stream",
          "text": [
            "alpha value for minimum MSE of  0.00401  is : 0.0017073526474706887\n"
          ]
        }
      ],
      "source": [
        "min_score = min(scores)\n",
        "for i in range(len(scores)):\n",
        "    if scores[i] == min_score:\n",
        "        index = i\n",
        "        break\n",
        "print(\"alpha value for minimum MSE of \",round(scores[index],5),\" is :\",alpha[index]) #Get the minimum MSE score and the alpha value\n",
        "best_lasso_alpha = alpha[index]"
      ]
    },
    {
      "cell_type": "markdown",
      "metadata": {
        "id": "JWd4zgmUzBwD"
      },
      "source": [
        "# Ridge Regression"
      ]
    },
    {
      "cell_type": "code",
      "execution_count": null,
      "metadata": {
        "id": "I_CLuHGzyz_A"
      },
      "outputs": [],
      "source": [
        "# Ridge Regression\n",
        "from sklearn.preprocessing import StandardScaler\n",
        "def cv_accuracy_score_ridge(X, y,alpha): #Creating a cross validation function\n",
        "    MSE_array = []\n",
        "    model = linear_model.Ridge(alpha=alpha) #Fitting the Ridge model for the specific alpha values\n",
        "    \n",
        "    kfold = model_selection.KFold(n_splits=5,shuffle = True, random_state=None).split(X, y) # K fold function with 5 splits\n",
        "    \n",
        "    for train, holdout in kfold:\n",
        "        # Select the training and testing data using the indices\n",
        "        # provided by kfold\n",
        "        X_train_2 = X.iloc[train]\n",
        "        X_holdout = X.iloc[holdout]\n",
        "        y_train_2 = y[train]\n",
        "        y_holdout = y[holdout]\n",
        "        \n",
        "        # Fit the model\n",
        "        model.fit(X_train_2, y_train_2)\n",
        "        \n",
        "        # Compute holdout accuracy\n",
        "        MSE = mean_squared_error(model.predict(X_holdout), y_holdout, squared=True)\n",
        "        MSE_array.append(MSE)\n",
        "    return sum(MSE_array)/len(MSE_array) #Returning mean MSE for each alpha"
      ]
    },
    {
      "cell_type": "code",
      "execution_count": null,
      "metadata": {
        "colab": {
          "base_uri": "https://localhost:8080/",
          "height": 303
        },
        "id": "IWGXObBTzLAm",
        "outputId": "f29833d4-c8f4-4165-9554-f0585eee64c1"
      },
      "outputs": [
        {
          "data": {
            "text/plain": [
              "Text(0, 0.5, 'MSE')"
            ]
          },
          "execution_count": 10,
          "metadata": {},
          "output_type": "execute_result"
        },
        {
          "data": {
            "image/png": "[encoded data removed]",
            "text/plain": [
              "<Figure size 432x288 with 1 Axes>"
            ]
          },
          "metadata": {
            "needs_background": "light"
          },
          "output_type": "display_data"
        }
      ],
      "source": [
        "import matplotlib.pyplot as plt\n",
        "alpha =  10**np.linspace(10,-6,100)\n",
        "scores = [cv_accuracy_score_ridge(X_train_scaled, y_train, num_nbrs) for num_nbrs in alpha] #Calling crossvalidation function for each alpha value\n",
        "#Plotting the graph of alpha values against MSE\n",
        "ax = plt.gca()\n",
        "ax.plot(alpha, scores)\n",
        "ax.set_xscale('log')\n",
        "ax.set_xlim(ax.get_xlim()[::])\n",
        "plt.plot(alpha, scores)\n",
        "plt.xlabel('Alpha value')\n",
        "plt.ylabel('MSE')"
      ]
    },
    {
      "cell_type": "code",
      "execution_count": null,
      "metadata": {
        "colab": {
          "base_uri": "https://localhost:8080/"
        },
        "id": "_ofqUDTBzNjy",
        "outputId": "8bf470d4-1900-4da5-a1fa-9028d52e4c20"
      },
      "outputs": [
        {
          "name": "stdout",
          "output_type": "stream",
          "text": [
            "alpha value for minimum MSE of  0.00399  is : 0.10235310218990226\n"
          ]
        }
      ],
      "source": [
        "min_score = min(scores)\n",
        "for i in range(len(scores)):\n",
        "    if scores[i] == min_score:\n",
        "        index = i\n",
        "        break\n",
        "print(\"alpha value for minimum MSE of \",round(scores[index],5),\" is :\",alpha[index]) #Get the minimum MSE score and the alpha value\n",
        "best_ridge_alpha = alpha[index]"
      ]
    },
    {
      "cell_type": "markdown",
      "metadata": {
        "id": "WN-9gEC52SEA"
      },
      "source": [
        "3)(**5 pts**) Run ridge and lasso regression for all of the **α** specified above (on training data), and plot the coefficients learned for each of them - there should be one plot each for lasso and ridge, so a total of two plots; different features' weights of each model should be on the same plot with different colors (3pts). \n",
        "\n",
        "What do you qualitatively observe when the value of the regularization parameter changes (2pts)? \n",
        "\n",
        "Approach:\n",
        "- Define and calculate coefficients using model.coef_\n",
        "- Call this function for different values of alpha\n",
        "- Plot the graph of weights as a function of alpha\n",
        "\n",
        "Repeat the same procedure for both ridge and lasso"
      ]
    },
    {
      "cell_type": "markdown",
      "metadata": {
        "id": "pe_Z0ZxK35-b"
      },
      "source": [
        "# Lasso"
      ]
    },
    {
      "cell_type": "code",
      "execution_count": null,
      "metadata": {
        "id": "928du89Tng9C"
      },
      "outputs": [],
      "source": [
        "## LASSO ##\n",
        "def calc_coeff_lasso(X, y, alpha):\n",
        "  model = linear_model.Lasso(alpha=alpha)\n",
        "  model.fit(X, y)\n",
        "  return model.coef_"
      ]
    },
    {
      "cell_type": "code",
      "execution_count": null,
      "metadata": {
        "colab": {
          "base_uri": "https://localhost:8080/",
          "height": 299
        },
        "id": "SaZBVBQYnkkY",
        "outputId": "88534e70-ef5a-42ae-e622-2b4b990b1919"
      },
      "outputs": [
        {
          "data": {
            "image/png": "[encoded data removed]",
            "text/plain": [
              "<Figure size 432x288 with 1 Axes>"
            ]
          },
          "metadata": {
            "needs_background": "light"
          },
          "output_type": "display_data"
        }
      ],
      "source": [
        "coeff_lasso_train = [calc_coeff_lasso(X_train, y_train, a) for a in alpha]\n",
        "# Plot alpha against weights for each feature\n",
        "ax = plt.gca()\n",
        "ax.plot(alpha, coeff_lasso_train)\n",
        "ax.set_xscale('log') # Changing scale for better visualisation\n",
        "ax.set_xlim(ax.get_xlim()[::]) \n",
        "plt.xlabel('alpha')\n",
        "plt.ylabel('weights')\n",
        "plt.title('Lasso coefficients as a function of the regularization')\n",
        "plt.axis('tight')\n",
        "plt.legend(X_train.columns, fontsize=8)\n",
        "plt.show()"
      ]
    },
    {
      "cell_type": "markdown",
      "metadata": {
        "id": "ECAu2BGln01u"
      },
      "source": [
        "## Ridge"
      ]
    },
    {
      "cell_type": "code",
      "execution_count": null,
      "metadata": {
        "id": "S1BA_HI5zV68"
      },
      "outputs": [],
      "source": [
        "## RIDGE ##\n",
        "def calc_coeff_ridge(X, y, alpha):\n",
        "  model = linear_model.Ridge(alpha=alpha)\n",
        "  model.fit(X, y)\n",
        "  return model.coef_"
      ]
    },
    {
      "cell_type": "code",
      "execution_count": null,
      "metadata": {
        "colab": {
          "base_uri": "https://localhost:8080/",
          "height": 299
        },
        "id": "MIhnoiDJm6zY",
        "outputId": "dd5ecf90-52b2-45cb-bb84-ab3cc587589f"
      },
      "outputs": [
        {
          "data": {
            "image/png": "[encoded data removed]",
            "text/plain": [
              "<Figure size 432x288 with 1 Axes>"
            ]
          },
          "metadata": {
            "needs_background": "light"
          },
          "output_type": "display_data"
        }
      ],
      "source": [
        "import matplotlib.pyplot as plt\n",
        "# Plot alpha against weights for each feature\n",
        "coeff_ridge_train = [calc_coeff_ridge(X_train, y_train, a) for a in alpha]\n",
        "ax = plt.gca()\n",
        "ax.plot(alpha, coeff_ridge_train)\n",
        "ax.set_xscale('log') # Changing scale for better visualisation\n",
        "ax.set_xlim(ax.get_xlim()[::])\n",
        "plt.xlabel('alpha')\n",
        "plt.ylabel('weights')\n",
        "plt.title('Ridge coefficients as a function of the regularization')\n",
        "plt.axis('tight')\n",
        "plt.legend(X_train.columns, fontsize=8)\n",
        "plt.show()"
      ]
    },
    {
      "cell_type": "markdown",
      "metadata": {
        "id": "17TIoRUPZndT"
      },
      "source": [
        "### Observations:\n",
        "- As the value of alpha increases the weights decrease for both lasso and ridge. The value of alpha serves as the tuning parameter for the coefficients.\n",
        "- In case of lasso, as alpha increases a little, the coefficients tend to move to exactly 0\n",
        "- In case of ridge, the coefficients don't move exactly to 0 but they marginally more than 0."
      ]
    },
    {
      "cell_type": "markdown",
      "metadata": {
        "id": "Qoh0cEQwnXQJ"
      },
      "source": [
        "4) (**3 pts**) Take the exponential of Y_train as the target, and fit the 2 regression models again. Report the best chosen **α** based on cross validation as well as the corresponding scoring metric. Compare the results of using the original target with the results of using the exponential of the target. What do you observe? \n",
        "\n",
        "Approach:\n",
        "- Very similar approach as taken previously by choosing alpha based on crossvalidated results\n",
        "- Take exponents or y_train for both lasso and ridge"
      ]
    },
    {
      "cell_type": "markdown",
      "metadata": {
        "id": "psZlIMftK4Uj"
      },
      "source": [
        "# Lasso"
      ]
    },
    {
      "cell_type": "code",
      "execution_count": null,
      "metadata": {
        "colab": {
          "base_uri": "https://localhost:8080/",
          "height": 299
        },
        "id": "D7Cnway04mWM",
        "outputId": "297aa6a1-19be-4f22-e264-ddb0b47f388c"
      },
      "outputs": [
        {
          "data": {
            "image/png": "[encoded data removed]",
            "text/plain": [
              "<Figure size 432x288 with 1 Axes>"
            ]
          },
          "metadata": {
            "needs_background": "light"
          },
          "output_type": "display_data"
        }
      ],
      "source": [
        "from math import exp\n",
        "y_train_exp = np.exp(y_train) #Taking exponent of y_train\n",
        "alpha =  10**np.linspace(10,-6,100)\n",
        "scores = [cv_accuracy_score_lasso(X_train_scaled, y_train_exp, num_nbrs) for num_nbrs in alpha]\n",
        "ax = plt.gca()\n",
        "\n",
        "ax.plot(alpha, scores)\n",
        "ax.set_xscale('log')\n",
        "ax.set_xlim(ax.get_xlim()[::])\n",
        "plt.xlabel('alpha')\n",
        "plt.ylabel('weights')\n",
        "plt.title('Lasso coefficients as a function of the regularization')\n",
        "plt.axis('tight')\n",
        "plt.legend(X_train.columns, fontsize=8)\n",
        "plt.show()"
      ]
    },
    {
      "cell_type": "code",
      "execution_count": null,
      "metadata": {
        "colab": {
          "base_uri": "https://localhost:8080/"
        },
        "id": "EJn3CX70G53G",
        "outputId": "01961349-c03a-4a68-dca3-09e7fe949a75"
      },
      "outputs": [
        {
          "name": "stdout",
          "output_type": "stream",
          "text": [
            "alpha value for minimum MSE of  0.01427  is : 0.00012618568830660183\n"
          ]
        }
      ],
      "source": [
        "min_score = min(scores)\n",
        "for i in range(len(scores)):\n",
        "    if scores[i] == min_score:\n",
        "        index = i\n",
        "        break\n",
        "print(\"alpha value for minimum MSE of \",round(scores[index],5),\" is :\",alpha[index])"
      ]
    },
    {
      "cell_type": "markdown",
      "metadata": {
        "id": "L6HgTZlRLBAq"
      },
      "source": [
        "# Ridge"
      ]
    },
    {
      "cell_type": "code",
      "execution_count": null,
      "metadata": {
        "colab": {
          "base_uri": "https://localhost:8080/",
          "height": 299
        },
        "id": "M6pYfqFEKUuZ",
        "outputId": "c935dceb-43cd-4f1a-c4f7-87d9efe92347"
      },
      "outputs": [
        {
          "data": {
            "image/png": "[encoded data removed]",
            "text/plain": [
              "<Figure size 432x288 with 1 Axes>"
            ]
          },
          "metadata": {
            "needs_background": "light"
          },
          "output_type": "display_data"
        }
      ],
      "source": [
        "y_train_exp = np.exp(y_train)\n",
        "alpha =  10**np.linspace(10,-6,100)\n",
        "scores = [cv_accuracy_score_ridge(X_train_scaled, y_train_exp, num_nbrs) for num_nbrs in alpha]\n",
        "ax = plt.gca()\n",
        "\n",
        "ax.plot(alpha, scores)\n",
        "ax.set_xscale('log')\n",
        "ax.set_xlim(ax.get_xlim()[::])\n",
        "plt.xlabel('alpha')\n",
        "plt.ylabel('weights')\n",
        "plt.title('Ridge coefficients as a function of the regularization')\n",
        "plt.axis('tight')\n",
        "plt.legend(X_train.columns, fontsize=8)\n",
        "plt.show()"
      ]
    },
    {
      "cell_type": "code",
      "execution_count": null,
      "metadata": {
        "colab": {
          "base_uri": "https://localhost:8080/"
        },
        "id": "E0n9eMELLKca",
        "outputId": "8ad8d8a9-95c6-4b6d-a30e-a945ea3b91a1"
      },
      "outputs": [
        {
          "name": "stdout",
          "output_type": "stream",
          "text": [
            "alpha value for minimum MSE of  0.01418  is : 1.3848863713938688\n"
          ]
        }
      ],
      "source": [
        "min_score = min(scores)\n",
        "for i in range(len(scores)):\n",
        "    if scores[i] == min_score:\n",
        "        index = i\n",
        "        break\n",
        "print(\"alpha value for minimum MSE of \",round(scores[index],5),\" is :\",alpha[index])"
      ]
    },
    {
      "cell_type": "markdown",
      "metadata": {
        "id": "UdXEJVRgavkf"
      },
      "source": [
        "### Observation:\n",
        "We see that as we take the exponential of the y_train, the value for MSE also increases. \n",
        "In the previous cases for both lasso and ridge the MSE was ~0.004 while the MSE values after taking exponential is ~0.14"
      ]
    },
    {
      "cell_type": "markdown",
      "metadata": {
        "id": "uhF5I2PTNBiP"
      },
      "source": [
        "5)  (5 pts) Similarly, use sklearn.linear_model.ElasticNet to do linear regression with different α values, and plot the coefficients learned for each of them (2pts). Observe the plot, then explain the pros and cons of ridge, lasso and Elastic Net models (3pts).\n",
        "\n",
        "Approach:\n",
        "- Similar to lasso and ridge, build the function for elastic net.\n",
        "- Choose the best alpha value using cross validation"
      ]
    },
    {
      "cell_type": "code",
      "execution_count": null,
      "metadata": {
        "id": "pYh3GW4_LMny"
      },
      "outputs": [],
      "source": [
        "def elastic_net_func(X,y,alpha):\n",
        "  MSE_array = []\n",
        "  model = linear_model.ElasticNet(alpha=alpha)\n",
        "  \n",
        "  kfold = model_selection.KFold(n_splits=5,shuffle = True, random_state=None).split(X, y)\n",
        "  \n",
        "  for train, holdout in kfold:\n",
        "    X_train_2 = X.iloc[train]\n",
        "    X_holdout = X.iloc[holdout]\n",
        "    y_train_2 = y[train]\n",
        "    y_holdout = y[holdout]\n",
        "    \n",
        "    model.fit(X_train_2, y_train_2)\n",
        "        \n",
        "        # Compute test accuracy\n",
        "    MSE = mean_squared_error(model.predict(X_holdout), y_holdout, squared=True)\n",
        "    MSE_array.append(MSE)\n",
        "  return sum(MSE_array)/len(MSE_array)"
      ]
    },
    {
      "cell_type": "code",
      "execution_count": null,
      "metadata": {
        "colab": {
          "base_uri": "https://localhost:8080/",
          "height": 299
        },
        "id": "AbWGYtdSO83O",
        "outputId": "c2dbbfb0-250b-4bd2-cfcd-97c5c54eae27"
      },
      "outputs": [
        {
          "data": {
            "image/png": "[encoded data removed]",
            "text/plain": [
              "<Figure size 432x288 with 1 Axes>"
            ]
          },
          "metadata": {
            "needs_background": "light"
          },
          "output_type": "display_data"
        }
      ],
      "source": [
        "alpha =  10**np.linspace(10,-6,100)\n",
        "scores = [elastic_net_func(X_train_scaled, y_train, num_nbrs) for num_nbrs in alpha]\n",
        "ax = plt.gca()\n",
        "\n",
        "ax.plot(alpha, scores)\n",
        "ax.set_xscale('log')\n",
        "ax.set_xlim(ax.get_xlim()[::-1])  # reverse axis\n",
        "plt.xlabel('alpha')\n",
        "plt.ylabel('weights')\n",
        "plt.title('Elastic Net coefficients as a function of the regularization')\n",
        "plt.axis('tight')\n",
        "plt.legend(X_train.columns, fontsize=8)\n",
        "plt.show()"
      ]
    },
    {
      "cell_type": "code",
      "execution_count": null,
      "metadata": {
        "colab": {
          "base_uri": "https://localhost:8080/"
        },
        "id": "JnmxlUALPKAD",
        "outputId": "c593259a-7f9e-4b4d-ea74-fe19c6205374"
      },
      "outputs": [
        {
          "name": "stdout",
          "output_type": "stream",
          "text": [
            "alpha value for minimum MSE of  0.00399  is : 4.430621457583869e-06\n"
          ]
        }
      ],
      "source": [
        "min_score = min(scores)\n",
        "for i in range(len(scores)):\n",
        "    if scores[i] == min_score:\n",
        "        index = i\n",
        "        break\n",
        "print(\"alpha value for minimum MSE of \",round(scores[index],5),\" is :\",alpha[index])"
      ]
    },
    {
      "cell_type": "code",
      "execution_count": null,
      "metadata": {
        "id": "RLGUtcxGuY-C"
      },
      "outputs": [],
      "source": [
        "def calc_coeff_elasticnet(X, y, alpha):\n",
        "  model = linear_model.ElasticNet(alpha=alpha)\n",
        "  model.fit(X, y)\n",
        "  return model.coef_"
      ]
    },
    {
      "cell_type": "code",
      "execution_count": null,
      "metadata": {
        "colab": {
          "base_uri": "https://localhost:8080/",
          "height": 299
        },
        "id": "h01SRxqTuij9",
        "outputId": "2c651581-5674-4c1b-fb86-5a104f656fb1"
      },
      "outputs": [
        {
          "data": {
            "image/png": "[encoded data removed]",
            "text/plain": [
              "<Figure size 432x288 with 1 Axes>"
            ]
          },
          "metadata": {
            "needs_background": "light"
          },
          "output_type": "display_data"
        }
      ],
      "source": [
        "import matplotlib.pyplot as plt\n",
        "coeff_ridge_train = [calc_coeff_elasticnet(X_train, y_train, a) for a in alpha]\n",
        "ax = plt.gca()\n",
        "\n",
        "ax.plot(alpha, coeff_ridge_train)\n",
        "ax.set_xscale('log')\n",
        "ax.set_xlim(ax.get_xlim()[::])\n",
        "plt.xlabel('alpha')\n",
        "plt.ylabel('weights')\n",
        "plt.title('Elastic Net coefficients as a function of the regularization')\n",
        "plt.axis('tight')\n",
        "plt.legend(X_train.columns, fontsize=8)\n",
        "plt.show()"
      ]
    },
    {
      "cell_type": "markdown",
      "metadata": {
        "id": "co1jEcI3b5aQ"
      },
      "source": [
        "### Pros and Cons of Lasso, Ridge and Elastic Net:\n",
        "Lasso:\n",
        "Pros:\n",
        "- It can do feature selection\n",
        "Cons: \n",
        "- The model selected by lasso is not stable. For example, on different bootstrapped data, the feature selected can be very different.\n",
        "- Why lasso selected a feature is not interpretable\n",
        "- When there are highly correlated features, lasso may randomly select one of them of part of them\n",
        "\n",
        "Ridge:\n",
        "Pros:\n",
        "- Ridge regression is very useful when there is multicollinearity in data(dependencies between the variables in the model)\n",
        "Cons:\n",
        "- Cannot be used for feature selection\n",
        "\n",
        "Elastic Net:\n",
        "Combines both the lasso and the ridge regression methods.\n",
        "Pros: \n",
        "Handles multicollinear data very well in addition to the other pros of the lasso regression\n",
        "Cons :\n",
        "- Slightly more computationally expensive"
      ]
    },
    {
      "cell_type": "markdown",
      "metadata": {
        "id": "zTu2nbkZcrCw"
      },
      "source": [
        "6)(5 pts) Run the following three regression models with MSE loss on the training data:\n",
        "\n",
        "a. linear regression without regularization (1pts)\n",
        "\n",
        "b. linear regression with ridge regularization (2pts)\n",
        "\n",
        "c. linear regression with lasso regularization (2pts)\n",
        "\n",
        "For part (b) and (c), use only the best regularization parameters. Report the MSE and R2 on the test data for each model."
      ]
    },
    {
      "cell_type": "markdown",
      "metadata": {
        "id": "a3lhAasqdTAa"
      },
      "source": [
        "## Linear Regression without regularization"
      ]
    },
    {
      "cell_type": "code",
      "execution_count": null,
      "metadata": {
        "colab": {
          "base_uri": "https://localhost:8080/"
        },
        "id": "Pt4T64A4PQY0",
        "outputId": "c58e752a-929f-489d-8f3a-c75e9df62d10"
      },
      "outputs": [
        {
          "name": "stdout",
          "output_type": "stream",
          "text": [
            "coefficient of determination or r square: 0.6910288907914797\n",
            "MSE is : 0.005200215496311301\n"
          ]
        }
      ],
      "source": [
        "model = linear_model.LinearRegression()\n",
        "model.fit(X_train_scaled, y_train)\n",
        "r_sq = model.score(X_test_scaled, y_test)\n",
        "print('coefficient of determination or r square:', r_sq)\n",
        "y_pred = model.predict(X_test_scaled)\n",
        "MSE = mean_squared_error(y_pred, y_test, squared=True)\n",
        "print('MSE is :',MSE)"
      ]
    },
    {
      "cell_type": "markdown",
      "metadata": {
        "id": "i8VWVx_hf4Il"
      },
      "source": [
        "## Linear Regression with Lasso\n"
      ]
    },
    {
      "cell_type": "code",
      "execution_count": null,
      "metadata": {
        "colab": {
          "base_uri": "https://localhost:8080/"
        },
        "id": "RozSqdhvfQri",
        "outputId": "ee10ad7b-b2a3-4f1f-f621-32dbbe8eee28"
      },
      "outputs": [
        {
          "name": "stdout",
          "output_type": "stream",
          "text": [
            "coefficient of determination or r square: 0.6938042730879566\n",
            "MSE is : 0.005153503730724872\n"
          ]
        }
      ],
      "source": [
        "model = linear_model.Lasso(alpha=best_lasso_alpha) #Getting the best alpha from the previously cross validated output\n",
        "model.fit(X_train_scaled, y_train)\n",
        "r_sq = model.score(X_test_scaled, y_test)\n",
        "print('coefficient of determination or r square:', r_sq)\n",
        "y_pred = model.predict(X_test_scaled)\n",
        "MSE = mean_squared_error(y_pred, y_test, squared=True)\n",
        "print('MSE is :',MSE)"
      ]
    },
    {
      "cell_type": "markdown",
      "metadata": {
        "id": "a7Xr8tFKhl7v"
      },
      "source": [
        "## Linear Regression with Ridge\n"
      ]
    },
    {
      "cell_type": "code",
      "execution_count": null,
      "metadata": {
        "colab": {
          "base_uri": "https://localhost:8080/"
        },
        "id": "QQgtyFoMhaEN",
        "outputId": "b8582a79-a9f8-48a7-8070-bbc1b7e36d42"
      },
      "outputs": [
        {
          "name": "stdout",
          "output_type": "stream",
          "text": [
            "coefficient of determination or r square: 0.6911091596276737\n",
            "MSE is : 0.005198864511596532\n"
          ]
        }
      ],
      "source": [
        "model = linear_model.Ridge(alpha=best_ridge_alpha) #Getting the best alpha from the previously cross validated output\n",
        "model.fit(X_train_scaled, y_train)\n",
        "r_sq = model.score(X_test_scaled, y_test)\n",
        "print('coefficient of determination or r square:', r_sq)\n",
        "y_pred = model.predict(X_test_scaled)\n",
        "MSE = mean_squared_error(y_pred, y_test, squared=True)\n",
        "print('MSE is :',MSE)"
      ]
    },
    {
      "cell_type": "markdown",
      "metadata": {
        "id": "XE68ZQFKep7W"
      },
      "source": [
        "7) (5 pts) Train the 3 models and report the metrics with the original data without scaling (3pts).\n",
        "\n",
        "Why do we need to scale the data before regularization (2pts)?"
      ]
    },
    {
      "cell_type": "markdown",
      "metadata": {
        "id": "IFksA-Udh1yH"
      },
      "source": [
        "## Linear Regression without regularization and without scaling"
      ]
    },
    {
      "cell_type": "code",
      "execution_count": null,
      "metadata": {
        "colab": {
          "base_uri": "https://localhost:8080/"
        },
        "id": "IE9_SKphhgYC",
        "outputId": "ac18bab3-910d-431b-eb4f-2d2efb086c18"
      },
      "outputs": [
        {
          "name": "stdout",
          "output_type": "stream",
          "text": [
            "coefficient of determination: 0.7310684763186407\n",
            "MSE is : 0.004526319242200034\n"
          ]
        }
      ],
      "source": [
        "model = linear_model.LinearRegression()\n",
        "model.fit(X_train, y_train)\n",
        "r_sq = model.score(X_test, y_test)\n",
        "print('coefficient of determination:', r_sq)\n",
        "y_pred = model.predict(X_test)\n",
        "MSE = mean_squared_error(y_pred, y_test, squared=True)\n",
        "print('MSE is :',MSE)"
      ]
    },
    {
      "cell_type": "markdown",
      "metadata": {
        "id": "blR_Bd3Nj-tf"
      },
      "source": [
        "## Linear Regression with lasso and without scaling"
      ]
    },
    {
      "cell_type": "code",
      "execution_count": null,
      "metadata": {
        "colab": {
          "base_uri": "https://localhost:8080/"
        },
        "id": "YM4wieA1iCm_",
        "outputId": "869db1e4-5229-4a42-c7d2-f97f6c941a1d"
      },
      "outputs": [
        {
          "name": "stdout",
          "output_type": "stream",
          "text": [
            "coefficient of determination: 0.7249996619948369\n",
            "MSE is : 0.0046284619388803966\n"
          ]
        }
      ],
      "source": [
        "model = linear_model.Lasso(alpha=best_lasso_alpha)\n",
        "model.fit(X_train, y_train)\n",
        "r_sq = model.score(X_test, y_test)\n",
        "print('coefficient of determination:', r_sq)\n",
        "y_pred = model.predict(X_test)\n",
        "MSE = mean_squared_error(y_pred, y_test, squared=True)\n",
        "print('MSE is :',MSE)"
      ]
    },
    {
      "cell_type": "markdown",
      "metadata": {
        "id": "B8eOjFNmkQyk"
      },
      "source": [
        "## Linear Regression with Ridge and without scaling"
      ]
    },
    {
      "cell_type": "code",
      "execution_count": null,
      "metadata": {
        "colab": {
          "base_uri": "https://localhost:8080/"
        },
        "id": "8QI1LIQrkIgo",
        "outputId": "25c1c195-3f11-48a2-df87-4835afe316bb"
      },
      "outputs": [
        {
          "name": "stdout",
          "output_type": "stream",
          "text": [
            "coefficient of determination: 0.731123188191865\n",
            "MSE is : 0.004525398400339769\n"
          ]
        }
      ],
      "source": [
        "model = linear_model.Ridge(alpha=best_ridge_alpha)\n",
        "model.fit(X_train, y_train)\n",
        "r_sq = model.score(X_test, y_test)\n",
        "print('coefficient of determination:', r_sq)\n",
        "y_pred = model.predict(X_test)\n",
        "MSE = mean_squared_error(y_pred, y_test, squared=True)\n",
        "print('MSE is :',MSE)"
      ]
    },
    {
      "cell_type": "markdown",
      "metadata": {
        "id": "fNPQMfTse3EF"
      },
      "source": [
        "Observation:\n",
        "Although in this particular observation, the scaled data has higher MSE, in general the scaled data usually has lower MSE due to the following reasons:\n",
        "- It helps to standardise / normalise data thereby reducing the range due to which the MSE value can reduce\n",
        "- Usually used for distance based algorithms so that the feature importances still remain intact and are not influenced by the scale\n",
        "Other advantages of Scaling the data:\n",
        "- It makes the training faster.\n",
        "- It prevents the optimization from getting stuck in local optima.\n",
        "- It gives a better error surface shape.\n",
        "- Weight decay and Bayes optimization can be done more conveniently."
      ]
    }
  ],
  "metadata": {
    "colab": {
      "collapsed_sections": [],
      "name": "MIS_382N_HW1-SB_KK.ipynb",
      "provenance": []
    },
    "kernelspec": {
      "display_name": "Python 3",
      "name": "python3"
    },
    "language_info": {
      "name": "python"
    }
  },
  "nbformat": 4,
  "nbformat_minor": 0
}
